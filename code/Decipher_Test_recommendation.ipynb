{
  "nbformat": 4,
  "nbformat_minor": 0,
  "metadata": {
    "colab": {
      "name": "Decipher_Test_recommendation.ipynb",
      "provenance": []
    },
    "kernelspec": {
      "name": "python3",
      "display_name": "Python 3"
    }
  },
  "cells": [
    {
      "cell_type": "code",
      "metadata": {
        "id": "RARxHMjZq2sO"
      },
      "source": [
        "#Importing the necessary libraries\n",
        "import json\n",
        "import numpy as np\n",
        "import pandas as pd"
      ],
      "execution_count": null,
      "outputs": []
    },
    {
      "cell_type": "code",
      "metadata": {
        "id": "VkzwliuMq-VP"
      },
      "source": [
        "#Reading the json file's\n",
        "import json\n",
        "\n",
        "with open('/content/drive/My Drive/students.json') as f:\n",
        "  data = json.load(f)\n",
        "\n",
        "with open('/content/drive/My Drive/tests_details.json') as f:\n",
        "  test_details = json.load(f)\n",
        "\n",
        "\n",
        "with open('/content/drive/My Drive/test_submissions.json') as f:\n",
        "  test_submission = json.load(f)"
      ],
      "execution_count": null,
      "outputs": []
    },
    {
      "cell_type": "code",
      "metadata": {
        "id": "kaqv0M5ls86f"
      },
      "source": [
        "Different_super_groups=[]  # A list to contain all the different supergroups"
      ],
      "execution_count": null,
      "outputs": []
    },
    {
      "cell_type": "code",
      "metadata": {
        "id": "o759b-ILtC4z"
      },
      "source": [
        "# To find all the different supergroups in which students are enrolled\n",
        "for i in range(0,10000):\n",
        "  try:\n",
        "    for k in data[i]['target_super_groups']:\n",
        "      Different_super_groups.append(k['title'][0]['value'])\n",
        "  except:\n",
        "    continue"
      ],
      "execution_count": null,
      "outputs": []
    },
    {
      "cell_type": "code",
      "metadata": {
        "id": "gcyjbKvWtFto"
      },
      "source": [
        "# To print only the unique elements of a list\n",
        "def unique(list1): \n",
        "    x = np.array(list1) \n",
        "    print(np.unique(x)) \n",
        "      "
      ],
      "execution_count": null,
      "outputs": []
    },
    {
      "cell_type": "code",
      "metadata": {
        "id": "eLgZ0GXktHcF",
        "outputId": "dd6a0669-e4c5-4252-da0e-883cde284832",
        "colab": {
          "base_uri": "https://localhost:8080/",
          "height": 84
        }
      },
      "source": [
        "unique(Different_super_groups) # The Different supergroups we have"
      ],
      "execution_count": null,
      "outputs": [
        {
          "output_type": "stream",
          "text": [
            "['Banking Exams' 'Defence Exams' 'Engineering Recruitment Exams'\n",
            " 'Insurance Exams' 'Other Govt. Exams' 'Police Exams'\n",
            " 'Professional Skills' 'Railways Exams' 'SSC Exams' 'State Govt. Exams'\n",
            " 'Teaching Exams']\n"
          ],
          "name": "stdout"
        }
      ]
    },
    {
      "cell_type": "code",
      "metadata": {
        "id": "pBBQnF4ktJ5Y"
      },
      "source": [
        "#Different lists to store the students enrolled in different supergroups\n",
        "Defence_Exams=[]\n",
        "Engineering_Recruitment_Exams=[]\n",
        "Insurance_Exams=[]\n",
        "Other_Govt_Exams=[]\n",
        "Police_Exams=[]\n",
        "Professional_Skills=[]\n",
        "Railways_Exams=[]\n",
        "SSC_Exams=[]\n",
        "State_Govt_Exams=[]\n",
        "Teaching_Exams=[]\n",
        "Banking_Exams=[]"
      ],
      "execution_count": null,
      "outputs": []
    },
    {
      "cell_type": "code",
      "metadata": {
        "id": "swRxVXQntMwq"
      },
      "source": [
        "# If else condition to appends the students in the list in which supergoup they are enrolled\n",
        "for i in range(0,10000):\n",
        "  try:\n",
        "    for k in data[i]['target_super_groups']:\n",
        "      if(k['title'][0]['value']== 'Banking Exams'):\n",
        "        Banking_Exams.append(data[i]['sid'])\n",
        "      if(k['title'][0]['value']== 'Defence Exams'):\n",
        "        Defence_Exams.append(data[i]['sid'])\n",
        "      if(k['title'][0]['value']== 'Engineering Recruitment Exams'):\n",
        "        Engineering_Recruitment_Exams.append(data[i]['sid'])\n",
        "      if(k['title'][0]['value']== 'Insurance Exams'):\n",
        "        Insurance_Exams.append(data[i]['sid'])\n",
        "      if(k['title'][0]['value']== 'Other Govt. Exams'):\n",
        "        Other_Govt_Exams.append(data[i]['sid'])\n",
        "      if(k['title'][0]['value']== 'Police Exams'):\n",
        "        Police_Exams.append(data[i]['sid'])\n",
        "      if(k['title'][0]['value']== 'Professional Skills'):\n",
        "        Professional_Skills.append(data[i]['sid'])\n",
        "      if(k['title'][0]['value']== 'Railways Exams'):\n",
        "        Railways_Exams.append(data[i]['sid'])\n",
        "      if(k['title'][0]['value']== 'SSC Exams'):\n",
        "        SSC_Exams.append(data[i]['sid'])\n",
        "      if(k['title'][0]['value']== 'State Govt. Exams'):\n",
        "        State_Govt_Exams.append(data[i]['sid'])\n",
        "      if(k['title'][0]['value']== 'Teaching Exams'):\n",
        "        Teaching_Exams.append(data[i]['sid'])\n",
        "  except:\n",
        "    continue"
      ],
      "execution_count": null,
      "outputs": []
    },
    {
      "cell_type": "code",
      "metadata": {
        "id": "H9_caq7DtRUS"
      },
      "source": [
        "# List to store all the tests to the supergroup for which they are for\n",
        "Defence_Exams_test=[]\n",
        "Engineering_Recruitment_Exams_test=[]\n",
        "Insurance_Exams_test=[]\n",
        "Other_Govt_Exams_test=[]\n",
        "Police_Exams_test=[]\n",
        "Professional_Skills_test=[]\n",
        "Railways_Exams_test=[]\n",
        "SSC_Exams_test=[]\n",
        "State_Govt_Exams_test=[]\n",
        "Teaching_Exams_test=[]\n",
        "Banking_Exams_test=[]"
      ],
      "execution_count": null,
      "outputs": []
    },
    {
      "cell_type": "code",
      "metadata": {
        "id": "W3J_Dp4wuRGW"
      },
      "source": [
        "# As we found for many tests their Super target group was null so we manually found out the the super target group for each target and appended them in the list.\n",
        "\n",
        "for i in range(0,876):\n",
        "  try:\n",
        "    exam=test_details[i]['target'][0]['title'][0]['value']\n",
        "    if exam=='AFCAT' or exam==\"AMCAT\" or exam == 'Airforce Group X' or exam == 'Airforce Group Y' or exam== 'CDS' or exam == 'CISF Constable' or exam == 'DRDO MTS' or exam=='Navy AA' or exam =='Navy SSR' or exam == 'Navy MR' or exam =='NDA':\n",
        "      Defence_Exams_test.append(test_details[i]['test_id'])\n",
        "    if exam =='AP Police Constable' or exam == 'Bihar Police ASI Steno' or exam =='Bihar Police Constable' or exam == 'Bihar Police SI' or exam == 'Rajasthan Police Constable' or exam=='Bihar Police Forest Guard' or exam == 'Delhi Police Constable' or exam == 'Delhi Police Head Constable' or exam =='Haryana Police Constable' or exam=='MP Jail Prahari' or exam=='UP Police Constable' or exam=='UP Police Jail Warder' or exam=='UP Police Sub Inspector' or exam=='UPSC CAPF AC':\n",
        "      Police_Exams_test.append(test_details[i]['test_id'])\n",
        "    if exam=='APSC Assistant Engineer' or exam == 'ECIL CS' or exam =='GATE CE' or exam =='GATE EC' or exam=='GATE CS' or exam=='GATE EE' or exam=='GATE ME' or exam=='ISRO Scientist CS' or exam =='ISRO Scientist EC' or exam =='ISRO Technical Assistant' or exam=='ISRO Technician' or exam=='MPTET' or exam=='RCFL' or exam=='NLC Graduate Executive Trainee' or exam=='rcfl' or exam=='TCS' or exam=='UPPCL Assistant Engineer' or exam=='UPPSC AE' or exam=='UPRVUNL AE' or exam=='Vizag Steel Management Trainee' or exam=='UPSC IES':\n",
        "      Engineering_Recruitment_Exams_test.append(test_details[i]['test_id'])\n",
        "    if exam =='CTET' or exam=='Bihar STET' or exam=='REET' or exam=='TN TRB CS' or exam=='UGC NET':\n",
        "      Teaching_Exams_test.append(test_details[i]['test_id'])\n",
        "    if exam=='Bank of Baroda PO' or exam== 'IBPS SO' or exam=='IBPS Clerk' or exam=='IBPS PO' or exam =='J&K Bank Clerk' or exam== 'RBI Assistant' or exam== 'RBI Grade B' or exam =='RRB Officer Scale - I' or exam=='RRC Group D' or exam=='SBI Clerk' or exam =='SBI PO' or exam =='SBI SO' or exam=='SEBI Grade A':\n",
        "      Banking_Exams_test.append(test_details[i]['test_id'])\n",
        "    if exam == 'CWC Junior Superintendent' or exam=='FCI Manager' or exam=='NBE':\n",
        "      Other_Govt_Exams_test.append(test_details[i]['test_id'])\n",
        "    if exam == 'Current Affairs' or exam =='English' or exam=='Skill Courses':\n",
        "      Professional_Skills_test.append(test_details[i]['test_id'])\n",
        "    if exam ==  'DDA Patwari' or exam == 'DSSSB' or exam=='HSSC Group D' or exam== 'MP Patwari' or exam=='REET' or exam=='RRB Office Assistant' or exam=='RRC Group D' or exam=='RSMSSB JE' or exam=='Rajasthan Patwari' or exam=='UP Lekhpal' or  exam=='UPPCL Technician' or exam=='UPPCS':\n",
        "      State_Govt_Exams_test.append(test_details[i]['test_id'])\n",
        "    if exam=='DMRC Maintainer' or exam=='RRB ALP' or exam=='RRB NTPC' or exam=='RRB JE':\n",
        "      Railways_Exams_test.append(test_details[i]['test_id'])\n",
        "    if exam =='LIC AAO' or exam == 'LIC Assistant' or exam=='NIACL AO' or exam=='UPSC EPFO':\n",
        "      Insurance_Exams_test.append(test_details[i]['test_id'])\n",
        "    if exam == 'IT Officer - Scale I' or exam=='SSC CGL' or exam=='SSC CHSL' or exam=='SSC CPO' or exam=='SSC GD Constable' or exam=='SSC JE CE' or exam=='SSC JE EE' or exam== 'SSC JE ME'or exam=='SSC JHT' or exam=='SSC MTS' or exam=='SSC Selection Post' or exam=='SSC Stenographer':\n",
        "      SSC_Exams_test.append(test_details[i]['test_id'])\n",
        "  except:\n",
        "    continue"
      ],
      "execution_count": null,
      "outputs": []
    },
    {
      "cell_type": "code",
      "metadata": {
        "id": "Jet5NqSIyaz-"
      },
      "source": [
        "All_tests=[]  #A list to store all the tests "
      ],
      "execution_count": null,
      "outputs": []
    },
    {
      "cell_type": "code",
      "metadata": {
        "id": "Wl4BB9YwyOKh"
      },
      "source": [
        "for i in range(0,876):\n",
        "  All_tests.append(test_details[i]['test_id'])\n"
      ],
      "execution_count": null,
      "outputs": []
    },
    {
      "cell_type": "code",
      "metadata": {
        "id": "PFtpSzdEyvvW"
      },
      "source": [
        "test_taken=[] #A list to store all the tests that were previously taken by the students"
      ],
      "execution_count": null,
      "outputs": []
    },
    {
      "cell_type": "code",
      "metadata": {
        "id": "wC44zcRXzjU4"
      },
      "source": [
        "# To store the test taken in the list\n",
        "for i in range(0,3589):\n",
        "  try:\n",
        "     test_taken.append(test_submission[i]['testId'])\n",
        "  except:\n",
        "     continue"
      ],
      "execution_count": null,
      "outputs": []
    },
    {
      "cell_type": "code",
      "metadata": {
        "id": "W68BduEI0CTi"
      },
      "source": [
        "#A list to count how many times each test was previously taken for each super target group\n",
        "Defence_course_count=[]\n",
        "Engineering_Recruitment_course_count=[]\n",
        "Insurance_course_count=[]\n",
        "Other_Govt_course_count=[]\n",
        "Police_course_count=[]\n",
        "Professional_Skills_course_count=[]\n",
        "Railways_course_count=[]\n",
        "SSC_course_count=[]\n",
        "State_Govt_course_count=[]\n",
        "Teaching_course_count=[]\n",
        "Banking_course_count=[]"
      ],
      "execution_count": null,
      "outputs": []
    },
    {
      "cell_type": "code",
      "metadata": {
        "id": "iXUjVjZ40FAF"
      },
      "source": [
        "All_tests_count=[]  #To count number of times all the tests that are previously taken"
      ],
      "execution_count": null,
      "outputs": []
    },
    {
      "cell_type": "code",
      "metadata": {
        "id": "Z95umLGG1V3O"
      },
      "source": [
        "# To count number of times each test has been taken to set the priority\n",
        "for j in Defence_Exams_test:\n",
        "  Defence_course_count.append(test_taken.count(j))\n",
        "\n",
        "for j in Engineering_Recruitment_Exams_test:\n",
        "  Engineering_Recruitment_course_count.append(test_taken.count(j))\n",
        "\n",
        "for j in Insurance_Exams_test:\n",
        "  Insurance_course_count.append(test_taken.count(j))\n",
        "\n",
        "for j in Other_Govt_Exams_test:\n",
        "  Other_Govt_course_count.append(test_taken.count(j))\n",
        "\n",
        "for j in Police_Exams_test:\n",
        "  Police_course_count.append(test_taken.count(j))                                 \n",
        "\n",
        "for j in Professional_Skills_test:\n",
        "  Professional_Skills_course_count.append(test_taken.count(j))\n",
        "\n",
        "for j in Railways_Exams_test:\n",
        "  Railways_course_count.append(test_taken.count(j))\n",
        "\n",
        "for j in SSC_Exams_test:\n",
        "  SSC_course_count.append(test_taken.count(j))\n",
        "\n",
        "for j in State_Govt_Exams_test:\n",
        "  State_Govt_course_count.append(test_taken.count(j))\n",
        "\n",
        "\n",
        "for j in Teaching_Exams_test:\n",
        "  Teaching_course_count.append(test_taken.count(j))\n",
        "\n",
        "for j in Banking_Exams_test:\n",
        "  Banking_course_count.append(test_taken.count(j))\n",
        "\n",
        "for j in All_tests:\n",
        "  All_tests_count.append(test_taken.count(j))"
      ],
      "execution_count": null,
      "outputs": []
    },
    {
      "cell_type": "code",
      "metadata": {
        "id": "nIhqfp1U3Oxl"
      },
      "source": [
        "# To create a dataframe with the test-Id and their count to set the priority\n",
        "Defence_Exams_test = pd.DataFrame({'All_courses':Defence_Exams_test,'Count':Defence_course_count})\n",
        "Engineering_Recruitment_Exams_test = pd.DataFrame({'All_courses':Engineering_Recruitment_Exams_test,'Count':Engineering_Recruitment_course_count})\n",
        "Insurance_Exams_test = pd.DataFrame({'All_courses':Insurance_Exams_test,'Count':Insurance_course_count})\n",
        "Other_Govt_Exams_test = pd.DataFrame({'All_courses':Other_Govt_Exams_test,'Count':Other_Govt_course_count})\n",
        "Police_Exams_test = pd.DataFrame({'All_courses':Police_Exams_test,'Count':Police_course_count})\n",
        "Professional_Skills_test = pd.DataFrame({'All_courses':Professional_Skills_test,'Count':Professional_Skills_course_count})\n",
        "Railways_Exams_test= pd.DataFrame({'All_courses':Railways_Exams_test,'Count':Railways_course_count})\n",
        "SSC_Exams_test = pd.DataFrame({'All_courses':SSC_Exams_test,'Count':SSC_course_count})\n",
        "State_Govt_Exams_test = pd.DataFrame({'All_courses':State_Govt_Exams_test,'Count':State_Govt_course_count})\n",
        "Teaching_Exams_test = pd.DataFrame({'All_courses':Teaching_Exams_test,'Count':Teaching_course_count})\n",
        "Banking_Exams_test = pd.DataFrame({'All_courses':Banking_Exams_test,'Count':Banking_course_count})\n",
        "All_tests = pd.DataFrame({'All_courses':All_tests,'Count': All_tests_count})"
      ],
      "execution_count": null,
      "outputs": []
    },
    {
      "cell_type": "code",
      "metadata": {
        "id": "8vaAbQ7u30Cd"
      },
      "source": [
        "# To sort them on the basis of their previous occurance\n",
        "\n",
        "Defence_Exams_test =Defence_Exams_test.sort_values(by ='Count', ascending=False, inplace=False)\n",
        "Engineering_Recruitment_Exams_test = Engineering_Recruitment_Exams_test.sort_values(by ='Count', ascending=False, inplace=False)\n",
        "Insurance_Exams_test = Insurance_Exams_test.sort_values(by ='Count', ascending=False, inplace=False)\n",
        "Other_Govt_Exams_test = Other_Govt_Exams_test.sort_values(by ='Count', ascending=False, inplace=False)\n",
        "Police_Exams_test  = Police_Exams_test.sort_values(by ='Count', ascending=False, inplace=False)\n",
        "Professional_Skills_test= Professional_Skills_test.sort_values(by ='Count', ascending=False, inplace=False)\n",
        "Railways_Exams_test    = Railways_Exams_test.sort_values(by ='Count', ascending=False, inplace=False)\n",
        "SSC_Exams_test     = SSC_Exams_test.sort_values(by ='Count', ascending=False, inplace=False)\n",
        "State_Govt_Exams_test= State_Govt_Exams_test.sort_values(by ='Count', ascending=False, inplace=False)\n",
        "Teaching_Exams_test  = Teaching_Exams_test.sort_values(by ='Count', ascending=False, inplace=False)\n",
        "Banking_Exams_test = Banking_Exams_test.sort_values(by ='Count', ascending=False, inplace=False)\n",
        "\n"
      ],
      "execution_count": null,
      "outputs": []
    },
    {
      "cell_type": "code",
      "metadata": {
        "id": "2s5WW1Ib326w"
      },
      "source": [
        "All_tests = All_tests.sort_values(by ='Count', ascending=False, inplace=False)"
      ],
      "execution_count": null,
      "outputs": []
    },
    {
      "cell_type": "code",
      "metadata": {
        "id": "rlkEvz4T34yU"
      },
      "source": [
        "#Function to recommend the test\n",
        "def result():\n",
        "  query=input()\n",
        "  m=0\n",
        "  Recommendation=[]\n",
        "  m=[] \n",
        "  for i in range(0,3589):\n",
        "    if test_submission[i]['studentId'] == query:\n",
        "      if test_submission[i]['correct'] >= 1 and test_submission[i]['correct'] < 25:\n",
        "        Recommendation.append(test_submission[i]['testId'])\n",
        "  if query in Banking_Exams:\n",
        "    index = Banking_Exams_test.index\n",
        "    number_of_rows = len(index)\n",
        "    for i in range(0,number_of_rows):\n",
        "      if Banking_Exams_test.iloc[i,0] not in m:\n",
        "        Recommendation.append(Banking_Exams_test.iloc[i,0])\n",
        "        break;\n",
        "  if query in Defence_Exams:\n",
        "    index = Defence_Exams_test.index\n",
        "    number_of_rows = len(index)\n",
        "    for i in range(0,number_of_rows):\n",
        "      if Defence_Exams_test.iloc[i,0] not in m:\n",
        "        Recommendation.append(Defence_Exams_test.iloc[i,0])\n",
        "        break;\n",
        "  if query in Engineering_Recruitment_Exams:\n",
        "    index = Engineering_Recruitment_Exams_test.index\n",
        "    number_of_rows = len(index)\n",
        "    for i in range(0,number_of_rows):\n",
        "      if Engineering_Recruitment_Exams_test.iloc[i,0] not in m:\n",
        "        Recommendation.append(Engineering_Recruitment_Exams_test.iloc[i,0])\n",
        "        break;\n",
        "  if query in Insurance_Exams:\n",
        "    index = Insurance_Exams_test.index\n",
        "    number_of_rows = len(index)\n",
        "    for i in range(0,number_of_rows):\n",
        "      if Insurance_Exams_test.iloc[i,0] not in m:\n",
        "        Recommendation.append(Insurance_Exams_test.iloc[i,0])\n",
        "        break;\n",
        "  if query in Police_Exams:\n",
        "    index = Police_Exams_test.index\n",
        "    number_of_rows = len(index)\n",
        "    for i in range(0,number_of_rows):\n",
        "      if Police_Exams_test.iloc[i,0] not in m:\n",
        "        Recommendation.append(Police_Exams_test.iloc[i,0])\n",
        "        break;\n",
        "  if query in Professional_Skills:\n",
        "    index = Professional_Skills_test.index\n",
        "    number_of_rows = len(index)\n",
        "    for i in range(0,number_of_rows):\n",
        "      if Professional_Skills_test.iloc[i,0] not in m:\n",
        "        Recommendation.append(Professional_Skills_test.iloc[i,0])\n",
        "        break;\n",
        "  if query in Railways_Exams:\n",
        "    index = Railways_Exams_test.index\n",
        "    number_of_rows = len(index)\n",
        "    for i in range(0,number_of_rows):\n",
        "      if Railways_Exams_test.iloc[i,0] not in m:\n",
        "        Recommendation.append(Railways_Exams_test.iloc[i,0])\n",
        "        break;\n",
        "  \n",
        "  if query in SSC_Exams:\n",
        "    index = SSC_Exams_test.index\n",
        "    number_of_rows = len(index)\n",
        "    for i in range(0,number_of_rows):\n",
        "      if SSC_Exams_test.iloc[i,0] not in m:\n",
        "        Recommendation.append(SSC_Exams_test.iloc[i,0])\n",
        "        break;\n",
        "  if query in State_Govt_Exams:\n",
        "    index = State_Govt_Exams_test.index\n",
        "    number_of_rows = len(index)\n",
        "    for i in range(0,number_of_rows):\n",
        "      if State_Govt_Exams_test.iloc[i,0] not in m:\n",
        "        Recommendation.append(State_Govt_Exams_test.iloc[i,0])\n",
        "        break;\n",
        "  if len(Recommendation)==0:\n",
        "     index = All_tests.index\n",
        "     number_of_rows = len(index)\n",
        "     for i in range(0,number_of_rows):\n",
        "       if All_tests.iloc[i,0] not in m:\n",
        "         Recommendation.append(All_tests.iloc[i,0])\n",
        "         break;\n",
        "  print(\"The recommended Tests are\\n\")\n",
        "  unique(Recommendation)\n"
      ],
      "execution_count": null,
      "outputs": []
    },
    {
      "cell_type": "code",
      "metadata": {
        "id": "0xKhfdzxzEaI",
        "outputId": "c85a4b08-7bfd-4ed7-cefd-93ffd4abfe90",
        "colab": {
          "base_uri": "https://localhost:8080/",
          "height": 101
        }
      },
      "source": [
        "result()"
      ],
      "execution_count": null,
      "outputs": [
        {
          "output_type": "stream",
          "text": [
            "15124e459c173f28a53b4863fdb8f6b3\n",
            "The recommended Tests are\n",
            "\n",
            "['82e37348498073236bf7fbd32191bf3e' 'a82e3ddc77d28b3ef773e1228dd13d12'\n",
            " 'b4ca204631b17b6b486c361872fd2af2' 'dfb896ae1ed198daa72758980ddc4efe']\n"
          ],
          "name": "stdout"
        }
      ]
    },
    {
      "cell_type": "markdown",
      "metadata": {
        "id": "7wd1eseTzp3e"
      },
      "source": [
        "The Student with Sid-\"15124e459c173f28a53b4863fdb8f6b3\" is enrolled for preparation of Banking, Railways and SSC exams so The test \"dfb896ae1ed198daa72758980ddc4efe\" is recommended because this test is taken by maximum number of students that is 368 students who are enrolled for Banking exams preparation similary test \"b4ca204631b17b6b486c361872fd2af2\" and \"82e37348498073236bf7fbd32191bf3e\" is recommended because he is enrolled for SSC and Railways Preparation and these tests were take by 94 , 94 students respectively which is maximum and the test \"a82e3ddc77d28b3ef773e1228dd13d12\" is recommended because the student has previously enrolled for this test and got 2 marks in that and we think there is a chance of improvement if student appear again for the same test, But we have not recommended him the other test in which he is appeared previously that is \"dcf403b70447d14bdfc2a922452abddd\" because he has not corrected a single question of the test so we dont't think he is ready for this test now. \n"
      ]
    },
    {
      "cell_type": "code",
      "metadata": {
        "id": "WVJHE6BovhLZ"
      },
      "source": [
        ""
      ],
      "execution_count": null,
      "outputs": []
    },
    {
      "cell_type": "code",
      "metadata": {
        "id": "Kiv6G4OL1yxM",
        "outputId": "91e0036c-e326-4ca4-c3e3-96774554d22c",
        "colab": {
          "base_uri": "https://localhost:8080/",
          "height": 101
        }
      },
      "source": [
        "result()"
      ],
      "execution_count": null,
      "outputs": [
        {
          "output_type": "stream",
          "text": [
            "a341f4641772b42ffb04b74522734d84\n",
            "The recommended Tests are\n",
            "\n",
            "['2a3789c4ea686289ee0f62b5d816588b' 'c0ece24d2d5c3893c5c96b8d645fcc92'\n",
            " 'dfb896ae1ed198daa72758980ddc4efe']\n"
          ],
          "name": "stdout"
        }
      ]
    },
    {
      "cell_type": "markdown",
      "metadata": {
        "id": "AqE9ZG7c1-bQ"
      },
      "source": [
        "The student with Sid-\"a341f4641772b42ffb04b74522734d84\" has already appeard in the test \"a8d11a82ba438ea1dda0661e6a791de0\" but we have not recommended him that test because he have scored 38 in the test which is better compared to other's so we have recommended him other tests of the super target group in which he is enrolled that are Banking,Defence and police exams preparation,The test we have recommended are the most frequent tests taken are by the students who are enrolled in these super target groups."
      ]
    }
  ]
}