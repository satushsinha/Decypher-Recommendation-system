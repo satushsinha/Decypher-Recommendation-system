{
  "nbformat": 4,
  "nbformat_minor": 0,
  "metadata": {
    "colab": {
      "name": "Decipher_Course_Recommendation.ipynb",
      "provenance": []
    },
    "kernelspec": {
      "name": "python3",
      "display_name": "Python 3"
    }
  },
  "cells": [
    {
      "cell_type": "code",
      "metadata": {
        "id": "blpCkvRgY1kN"
      },
      "source": [
        "#Importing the necessary libraries\n",
        "import json\n",
        "import numpy as np\n",
        "import pandas as pd"
      ],
      "execution_count": null,
      "outputs": []
    },
    {
      "cell_type": "code",
      "metadata": {
        "id": "6v0TspREZ_KF"
      },
      "source": [
        "#Reading the json file's\n",
        "import json\n",
        "\n",
        "with open('/content/drive/My Drive/students.json') as f:\n",
        "  data = json.load(f)\n",
        "\n",
        "with open('/content/drive/My Drive/class_details.json') as f:\n",
        "  class_details = json.load(f)\n",
        "\n",
        "\n",
        "with open('/content/drive/My Drive/course_enrollments.json') as f:\n",
        "  course_enrollment = json.load(f)\n",
        "\n"
      ],
      "execution_count": null,
      "outputs": []
    },
    {
      "cell_type": "code",
      "metadata": {
        "id": "gboJGehzaGDE"
      },
      "source": [
        "Different_super_groups=[]  # A list to contain all the different supergroups"
      ],
      "execution_count": null,
      "outputs": []
    },
    {
      "cell_type": "code",
      "metadata": {
        "id": "LbzuN4WgaeQc"
      },
      "source": [
        "# To find all the different supergroups in which students are enrolled\n",
        "for i in range(0,10000):\n",
        "  try:\n",
        "    for k in data[i]['target_super_groups']:\n",
        "      Different_super_groups.append(k['title'][0]['value'])\n",
        "  except:\n",
        "    continue"
      ],
      "execution_count": null,
      "outputs": []
    },
    {
      "cell_type": "code",
      "metadata": {
        "id": "AEyhb0B6axtB"
      },
      "source": [
        "# To print only the unique elements of a list\n",
        "def unique(list1): \n",
        "    x = np.array(list1) \n",
        "    print(np.unique(x)) \n",
        "      "
      ],
      "execution_count": null,
      "outputs": []
    },
    {
      "cell_type": "code",
      "metadata": {
        "id": "WSTiyDoZbInb",
        "outputId": "21c03e5b-a4cf-485a-bd76-6cd44f45bde2",
        "colab": {
          "base_uri": "https://localhost:8080/",
          "height": 84
        }
      },
      "source": [
        "unique(Different_super_groups) # The Different supergroups we have"
      ],
      "execution_count": null,
      "outputs": [
        {
          "output_type": "stream",
          "text": [
            "['Banking Exams' 'Defence Exams' 'Engineering Recruitment Exams'\n",
            " 'Insurance Exams' 'Other Govt. Exams' 'Police Exams'\n",
            " 'Professional Skills' 'Railways Exams' 'SSC Exams' 'State Govt. Exams'\n",
            " 'Teaching Exams']\n"
          ],
          "name": "stdout"
        }
      ]
    },
    {
      "cell_type": "code",
      "metadata": {
        "id": "wQ0ExHwobOZZ"
      },
      "source": [
        "#Different lists to store the students enrolled in different supergroups\n",
        "Defence_Exams=[]\n",
        "Engineering_Recruitment_Exams=[]\n",
        "Insurance_Exams=[]\n",
        "Other_Govt_Exams=[]\n",
        "Police_Exams=[]\n",
        "Professional_Skills=[]\n",
        "Railways_Exams=[]\n",
        "SSC_Exams=[]\n",
        "State_Govt_Exams=[]\n",
        "Teaching_Exams=[]\n",
        "Banking_Exams=[]"
      ],
      "execution_count": null,
      "outputs": []
    },
    {
      "cell_type": "code",
      "metadata": {
        "id": "YZ9Gg-QOc0Dg"
      },
      "source": [
        "# If else condition to appends the students in the list in which supergoup they are enrolled\n",
        "for i in range(0,10000):\n",
        "  try:\n",
        "    for k in data[i]['target_super_groups']:\n",
        "      if(k['title'][0]['value']== 'Banking Exams'):\n",
        "        Banking_Exams.append(data[i]['sid'])\n",
        "      if(k['title'][0]['value']== 'Defence Exams'):\n",
        "        Defence_Exams.append(data[i]['sid'])\n",
        "      if(k['title'][0]['value']== 'Engineering Recruitment Exams'):\n",
        "        Engineering_Recruitment_Exams.append(data[i]['sid'])\n",
        "      if(k['title'][0]['value']== 'Insurance Exams'):\n",
        "        Insurance_Exams.append(data[i]['sid'])\n",
        "      if(k['title'][0]['value']== 'Other Govt. Exams'):\n",
        "        Other_Govt_Exams.append(data[i]['sid'])\n",
        "      if(k['title'][0]['value']== 'Police Exams'):\n",
        "        Police_Exams.append(data[i]['sid'])\n",
        "      if(k['title'][0]['value']== 'Professional Skills'):\n",
        "        Professional_Skills.append(data[i]['sid'])\n",
        "      if(k['title'][0]['value']== 'Railways Exams'):\n",
        "        Railways_Exams.append(data[i]['sid'])\n",
        "      if(k['title'][0]['value']== 'SSC Exams'):\n",
        "        SSC_Exams.append(data[i]['sid'])\n",
        "      if(k['title'][0]['value']== 'State Govt. Exams'):\n",
        "        State_Govt_Exams.append(data[i]['sid'])\n",
        "      if(k['title'][0]['value']== 'Teaching Exams'):\n",
        "        Teaching_Exams.append(data[i]['sid'])\n",
        "  except:\n",
        "    continue"
      ],
      "execution_count": null,
      "outputs": []
    },
    {
      "cell_type": "code",
      "metadata": {
        "id": "EU0KM3ySdzEP"
      },
      "source": [
        "\n",
        "# List to store all the courses to the supergroup for which they are for\n",
        "Defence_Exams_course=[]\n",
        "Engineering_Recruitment_Exams_course=[]\n",
        "Insurance_Exams_course=[]\n",
        "Other_Govt_Exams_course=[]\n",
        "Police_Exams_course=[]\n",
        "Professional_Skills_course=[]\n",
        "Railways_Exams_course=[]\n",
        "SSC_Exams_course=[]\n",
        "State_Govt_Exams_course=[]\n",
        "Teaching_Exams_course=[]\n",
        "Banking_Exams_course=[]"
      ],
      "execution_count": null,
      "outputs": []
    },
    {
      "cell_type": "code",
      "metadata": {
        "id": "YNfePPqIeQIL"
      },
      "source": [
        "All_courses=[] #list to store all the courses"
      ],
      "execution_count": null,
      "outputs": []
    },
    {
      "cell_type": "code",
      "metadata": {
        "id": "WOTF2Ys9ea4A"
      },
      "source": [
        "#To store all the courses\n",
        "for i in range(0,90):\n",
        "  All_courses.append(class_details[i]['class_id'])"
      ],
      "execution_count": null,
      "outputs": []
    },
    {
      "cell_type": "code",
      "metadata": {
        "id": "lTb9cKq0e5j9"
      },
      "source": [
        "Different_super_groups_course=[]"
      ],
      "execution_count": null,
      "outputs": []
    },
    {
      "cell_type": "code",
      "metadata": {
        "id": "RuOaF9ACex_o"
      },
      "source": [
        "# To find all the super groups for which we have course \n",
        "for i in range(0,90):\n",
        "  try:\n",
        "    for k in class_details[i]['target_super_group']:\n",
        "      Different_super_groups_course.append(k['title'][0]['value'])\n",
        "  except:\n",
        "    continue"
      ],
      "execution_count": null,
      "outputs": []
    },
    {
      "cell_type": "code",
      "metadata": {
        "id": "_Mk1vsQjfmro",
        "outputId": "4e721768-2903-4f1a-b275-c172ad1eb5c4",
        "colab": {
          "base_uri": "https://localhost:8080/",
          "height": 67
        }
      },
      "source": [
        "unique(Different_super_groups_course)"
      ],
      "execution_count": null,
      "outputs": [
        {
          "output_type": "stream",
          "text": [
            "['Banking Exams' 'Defence Exams' 'Engineering Recruitment Exams'\n",
            " 'Insurance Exams' 'Police Exams' 'Professional Skills' 'Railways Exams'\n",
            " 'SSC Exams' 'State Govt. Exams']\n"
          ],
          "name": "stdout"
        }
      ]
    },
    {
      "cell_type": "code",
      "metadata": {
        "id": "wQtPJ3gtd-3h"
      },
      "source": [
        "# If else to store different courses they are for\n",
        "for i in range(0,90):\n",
        "  try:\n",
        "    for k in class_details[i]['target_super_group']:\n",
        "      if(k['title'][0]['value']== 'Banking Exams'):\n",
        "        Banking_Exams_course.append(class_details[i]['class_id'])\n",
        "      if(k['title'][0]['value']== 'Defence Exams'):\n",
        "        Defence_Exams_course.append(class_details[i]['class_id'])\n",
        "      if(k['title'][0]['value']== 'Engineering Recruitment Exams'):\n",
        "        Engineering_Recruitment_Exams_course.append(class_details[i]['class_id'])\n",
        "      if(k['title'][0]['value']== 'Insurance Exams'):\n",
        "        Insurance_Exams_course.append(class_details[i]['class_id'])\n",
        "      if(k['title'][0]['value']== 'Other Govt. Exams'):\n",
        "        Other_Govt_Exams_course.append(class_details[i]['class_id'])\n",
        "      if(k['title'][0]['value']== 'Police Exams'):\n",
        "        Police_Exams_course.append(class_details[i]['class_id'])\n",
        "      if(k['title'][0]['value']== 'Professional Skills'):\n",
        "        Professional_Skills_course.append(class_details[i]['class_id'])\n",
        "      if(k['title'][0]['value']== 'Railways Exams'):\n",
        "        Railways_Exams_course.append(class_details[i]['class_id'])\n",
        "      if(k['title'][0]['value']== 'SSC Exams'):\n",
        "        SSC_Exams_course.append(class_details[i]['class_id'])\n",
        "      if(k['title'][0]['value']== 'State Govt. Exams'):\n",
        "        State_Govt_Exams_course.append(class_details[i]['class_id'])\n",
        "      if(k['title'][0]['value']== 'Teaching Exams'):\n",
        "        Teaching_Exams_course.append(class_details[i]['class_id'])\n",
        "  except:\n",
        "    continue"
      ],
      "execution_count": null,
      "outputs": []
    },
    {
      "cell_type": "code",
      "metadata": {
        "id": "qTE86Abmfq6B"
      },
      "source": [
        "courses_taken=[] #To store all the courses taken by the students"
      ],
      "execution_count": null,
      "outputs": []
    },
    {
      "cell_type": "code",
      "metadata": {
        "id": "r3IJ8f6wee3M"
      },
      "source": [
        "# To store the courses taken in the list\n",
        "for i in range(0,10000):\n",
        "  try:\n",
        "    for k in course_enrollment[i]['enrolled_courses']:\n",
        "      courses_taken.append(k)\n",
        "  except:\n",
        "    continue"
      ],
      "execution_count": null,
      "outputs": []
    },
    {
      "cell_type": "code",
      "metadata": {
        "id": "mDpTajb1gult"
      },
      "source": [
        "#A list to count how many times each course was previously taken for each super target group\n",
        "Defence_course_count=[]\n",
        "Engineering_Recruitment_course_count=[]\n",
        "Insurance_course_count=[]\n",
        "Other_Govt_course_count=[]\n",
        "Police_course_count=[]\n",
        "Professional_Skills_course_count=[]\n",
        "Railways_course_count=[]\n",
        "SSC_course_count=[]\n",
        "State_Govt_course_count=[]\n",
        "Teaching_course_count=[]\n",
        "Banking_course_count=[]"
      ],
      "execution_count": null,
      "outputs": []
    },
    {
      "cell_type": "code",
      "metadata": {
        "id": "dBlqq5QcoCR9"
      },
      "source": [
        "All_courses_count=[]  #To count for all the courses"
      ],
      "execution_count": null,
      "outputs": []
    },
    {
      "cell_type": "code",
      "metadata": {
        "id": "oVAj0NoJhYbg"
      },
      "source": [
        "# To count number of times each course of every super target group has been taken to set the priority\n",
        "for j in Defence_Exams_course:\n",
        "  Defence_course_count.append(courses_taken.count(j))\n",
        "\n",
        "for j in Engineering_Recruitment_Exams_course:\n",
        "  Engineering_Recruitment_course_count.append(courses_taken.count(j))\n",
        "\n",
        "for j in Insurance_Exams_course:\n",
        "  Insurance_course_count.append(courses_taken.count(j))\n",
        "\n",
        "for j in Other_Govt_Exams_course:\n",
        "  Other_Govt_course_count.append(courses_taken.count(j))\n",
        "\n",
        "for j in Police_Exams_course:\n",
        "  Police_course_count.append(courses_taken.count(j))                                 \n",
        "\n",
        "for j in Professional_Skills_course:\n",
        "  Professional_Skills_course_count.append(courses_taken.count(j))\n",
        "\n",
        "for j in Railways_Exams_course:\n",
        "  Railways_course_count.append(courses_taken.count(j))\n",
        "\n",
        "for j in SSC_Exams_course:\n",
        "  SSC_course_count.append(courses_taken.count(j))\n",
        "\n",
        "for j in State_Govt_Exams_course:\n",
        "  State_Govt_course_count.append(courses_taken.count(j))\n",
        "\n",
        "\n",
        "for j in Teaching_Exams_course:\n",
        "  Teaching_course_count.append(courses_taken.count(j))\n",
        "\n",
        "for j in Banking_Exams_course:\n",
        "  Banking_course_count.append(courses_taken.count(j))\n",
        "\n",
        "for j in All_courses:\n",
        "  All_courses_count.append(courses_taken.count(j))"
      ],
      "execution_count": null,
      "outputs": []
    },
    {
      "cell_type": "code",
      "metadata": {
        "id": "L4dhih5Njwb1"
      },
      "source": [
        "# To create a dataframe with the Count-Id and their count to set the priority\n",
        "Defence_Exams_course = pd.DataFrame({'All_courses':Defence_Exams_course,'Count':Defence_course_count})\n",
        "Engineering_Recruitment_Exams_course = pd.DataFrame({'All_courses':Engineering_Recruitment_Exams_course,'Count':Engineering_Recruitment_course_count})\n",
        "Insurance_Exams_course = pd.DataFrame({'All_courses':Insurance_Exams_course,'Count':Insurance_course_count})\n",
        "Other_Govt_Exams_course = pd.DataFrame({'All_courses':Other_Govt_Exams_course,'Count':Other_Govt_course_count})\n",
        "Police_Exams_course = pd.DataFrame({'All_courses':Police_Exams_course,'Count':Police_course_count})\n",
        "Professional_Skills_course = pd.DataFrame({'All_courses':Professional_Skills_course,'Count':Professional_Skills_course_count})\n",
        "Railways_Exams_course= pd.DataFrame({'All_courses':Railways_Exams_course,'Count':Railways_course_count})\n",
        "SSC_Exams_course = pd.DataFrame({'All_courses':SSC_Exams_course,'Count':SSC_course_count})\n",
        "State_Govt_Exams_course = pd.DataFrame({'All_courses':State_Govt_Exams_course,'Count':State_Govt_course_count})\n",
        "Teaching_Exams_course = pd.DataFrame({'All_courses':Teaching_Exams_course,'Count':Teaching_course_count})\n",
        "Banking_Exams_course = pd.DataFrame({'All_courses':Banking_Exams_course,'Count':Banking_course_count})\n",
        "All_courses = pd.DataFrame({'All_courses':All_courses,'Count': All_courses_count})"
      ],
      "execution_count": null,
      "outputs": []
    },
    {
      "cell_type": "code",
      "metadata": {
        "id": "Qsmrx4fql9Hv"
      },
      "source": [
        "# To sort them on the basis of their previous occurance\n",
        "Defence_Exams_course =Defence_Exams_course.sort_values(by ='Count', ascending=False, inplace=False)\n",
        "Engineering_Recruitment_Exams_course = Engineering_Recruitment_Exams_course.sort_values(by ='Count', ascending=False, inplace=False)\n",
        "Insurance_Exams_course = Insurance_Exams_course.sort_values(by ='Count', ascending=False, inplace=False)\n",
        "Other_Govt_Exams_course = Other_Govt_Exams_course.sort_values(by ='Count', ascending=False, inplace=False)\n",
        "Police_Exams_course  = Police_Exams_course.sort_values(by ='Count', ascending=False, inplace=False)\n",
        "Professional_Skills_course= Professional_Skills_course.sort_values(by ='Count', ascending=False, inplace=False)\n",
        "Railways_Exams_course    = Railways_Exams_course.sort_values(by ='Count', ascending=False, inplace=False)\n",
        "SSC_Exams_course     = SSC_Exams_course.sort_values(by ='Count', ascending=False, inplace=False)\n",
        "State_Govt_Exams_course = State_Govt_Exams_course.sort_values(by ='Count', ascending=False, inplace=False)\n",
        "Teaching_Exams_course  = Teaching_Exams_course .sort_values(by ='Count', ascending=False, inplace=False)\n",
        "Banking_Exams_course = Banking_Exams_course.sort_values(by ='Count', ascending=False, inplace=False)\n",
        "All_courses = All_courses.sort_values(by ='Count', ascending=False, inplace=False)\n"
      ],
      "execution_count": null,
      "outputs": []
    },
    {
      "cell_type": "code",
      "metadata": {
        "id": "PIkbE25snLuT"
      },
      "source": [
        "#Function to Recommend the courses\n",
        "def result():\n",
        "  query=input()\n",
        "  Recommendation=[]\n",
        "  m=[]\n",
        "  for i in range(0,10000):\n",
        "    if course_enrollment[i]['studentIds']==query:\n",
        "      if course_enrollment[i]['enrolled_courses'] ==None:\n",
        "        m=[]\n",
        "      else:\n",
        "        m=course_enrollment[i]['enrolled_courses']\n",
        "  if query in Banking_Exams:\n",
        "    if len(Recommendation)==3:\n",
        "      Recommendation.pop(0)\n",
        "    index = Banking_Exams_course.index\n",
        "    number_of_rows = len(index)\n",
        "    for i in range(0,number_of_rows):\n",
        "      if Banking_Exams_course.iloc[i,0] not in m:\n",
        "        Recommendation.append(Banking_Exams_course.iloc[i,0])\n",
        "        if len(Recommendation) == 3:\n",
        "          break;\n",
        "  if query in Defence_Exams:\n",
        "    if len(Recommendation)==3:\n",
        "      Recommendation.pop(0)\n",
        "    index = Defence_Exams_course.index\n",
        "    number_of_rows = len(index)\n",
        "    for i in range(0,number_of_rows):\n",
        "      if Defence_Exams_course.iloc[i,0] not in m:\n",
        "        Recommendation.append(Defence_Exams_course.iloc[i,0])\n",
        "        if(len(Recommendation) == 3):\n",
        "          break;\n",
        "  if query in Engineering_Recruitment_Exams:\n",
        "    if len(Recommendation)==3:\n",
        "      Recommendation.pop(0)    \n",
        "    index = Engineering_Recruitment_Exams_course.index\n",
        "    number_of_rows = len(index)\n",
        "    for i in range(0,number_of_rows):\n",
        "      if Engineering_Recruitment_Exams_course.iloc[i,0] not in m:\n",
        "        Recommendation.append(Engineering_Recruitment_Exams_course.iloc[i,0])\n",
        "        if(len(Recommendation) == 3):\n",
        "          break;\n",
        "  if query in Insurance_Exams:\n",
        "    if len(Recommendation)==3:\n",
        "      Recommendation.pop(0)    \n",
        "    index = Insurance_Exams_course.index\n",
        "    number_of_rows = len(index)\n",
        "    for i in range(0,number_of_rows):\n",
        "      if Insurance_Exams_course.iloc[i,0] not in m:\n",
        "        Recommendation.append(Insurance_Exams_course.iloc[i,0])\n",
        "        if(len(Recommendation) == 3):\n",
        "          break;\n",
        "  if query in Police_Exams:\n",
        "    if len(Recommendation)==3:\n",
        "      Recommendation.pop(0)    \n",
        "    index = Police_Exams_course.index\n",
        "    number_of_rows = len(index)\n",
        "    for i in range(0,number_of_rows):\n",
        "      if Police_Exams_course.iloc[i,0] not in m:\n",
        "        Recommendation.append(Police_Exams_course.iloc[i,0])\n",
        "        if(len(Recommendation) == 3):\n",
        "          break;\n",
        "  if query in Professional_Skills:\n",
        "    if len(Recommendation)==3:\n",
        "      Recommendation.pop(0)    \n",
        "    index = Professional_Skills_course.index\n",
        "    number_of_rows = len(index)\n",
        "    for i in range(0,number_of_rows):\n",
        "      if Professional_Skills_course.iloc[i,0] not in m:\n",
        "        Recommendation.append(Professional_Skills_course.iloc[i,0])\n",
        "        if(len(Recommendation) == 3):\n",
        "          break;\n",
        "  if query in Railways_Exams:\n",
        "    if len(Recommendation)==3:\n",
        "      Recommendation.pop(0)    \n",
        "    index = Railways_Exams_course.index\n",
        "    number_of_rows = len(index)\n",
        "    for i in range(0,number_of_rows):\n",
        "      if Railways_Exams_course.iloc[i,0] not in m:\n",
        "        Recommendation.append(Railways_Exams_course.iloc[i,0])\n",
        "        if(len(Recommendation) == 3):\n",
        "          break;\n",
        "  if query in SSC_Exams:\n",
        "    if len(Recommendation)==3:\n",
        "      Recommendation.pop(0)    \n",
        "    index = SSC_Exams_course.index\n",
        "    number_of_rows = len(index)\n",
        "    for i in range(0,number_of_rows):\n",
        "      if SSC_Exams_course.iloc[i,0] not in m:\n",
        "        Recommendation.append(SSC_Exams_course.iloc[i,0])\n",
        "        if(len(Recommendation) == 3):\n",
        "          break;\n",
        "  if query in State_Govt_Exams:\n",
        "    if len(Recommendation)==3:\n",
        "      Recommendation.pop(0)    \n",
        "    index = State_Govt_Exams_course.index\n",
        "    number_of_rows = len(index)\n",
        "    for i in range(0,number_of_rows):\n",
        "      if State_Govt_Exams_course.iloc[i,0] not in m:\n",
        "        Recommendation.append(State_Govt_Exams_course.iloc[i,0])\n",
        "        if(len(Recommendation) == 3):\n",
        "          break;\n",
        "  if len(Recommendation) == 0:\n",
        "    index = All_courses.index\n",
        "    number_of_rows = len(index)\n",
        "    for i in range(0,number_of_rows):\n",
        "      if All_courses.iloc[i,0] not in m:\n",
        "        Recommendation.append(All_courses.iloc[i,0])\n",
        "        if(len(Recommendation)==3):\n",
        "          break;\n",
        "\n",
        "\n",
        "  print(\"The recommended courses are\\n\")\n",
        "  for i in Recommendation:\n",
        "    print(i)\n",
        "\n"
      ],
      "execution_count": null,
      "outputs": []
    },
    {
      "cell_type": "code",
      "metadata": {
        "id": "T7uhYzb3qKYA",
        "outputId": "815a3c91-2e07-483d-a970-eab133c521c6",
        "colab": {
          "base_uri": "https://localhost:8080/",
          "height": 118
        }
      },
      "source": [
        "result()"
      ],
      "execution_count": null,
      "outputs": [
        {
          "output_type": "stream",
          "text": [
            "8b238dff38c160b4854b4f9066df49bc\n",
            "The recommended courses are\n",
            "\n",
            "ef9d7813d12149b672b574cb59a562ed\n",
            "e46c8e4e08f7087ab2cc640f52609ece\n",
            "b61d1b81d9c3881dbb7ecc38d4161f89\n"
          ],
          "name": "stdout"
        }
      ]
    },
    {
      "cell_type": "markdown",
      "metadata": {
        "id": "EdRWwvlgeeDC"
      },
      "source": [
        "The student \"8b238dff38c160b4854b4f9066df49bc\" is enrolled for the Bank Exam preparations and has not taken any course before so we are recommending him the courses \"ef9d7813d12149b672b574cb59a562ed\" ,\"e46c8e4e08f7087ab2cc640f52609ece\" and \"b61d1b81d9c3881dbb7ecc38d4161f89\" which are for bank exam prepartions and already been taken by 12,11 and 10 students respectively who are preparing for Bank exams and they are the most taken courses by the students of this super target group.\n"
      ]
    },
    {
      "cell_type": "code",
      "metadata": {
        "id": "iCkd8OpPfv9C",
        "outputId": "8f211337-7f6c-4e28-afba-ac3de8330524",
        "colab": {
          "base_uri": "https://localhost:8080/",
          "height": 118
        }
      },
      "source": [
        "result()"
      ],
      "execution_count": null,
      "outputs": [
        {
          "output_type": "stream",
          "text": [
            "15698fb9e24f5b91646e0e6ecb8eb9e0\n",
            "The recommended courses are\n",
            "\n",
            "b61d1b81d9c3881dbb7ecc38d4161f89\n",
            "0db2e72c48b89cdaa961666fcc20d5d8\n",
            "df4b5cec8ecaef0e1308931ede355f99\n"
          ],
          "name": "stdout"
        }
      ]
    },
    {
      "cell_type": "markdown",
      "metadata": {
        "id": "niOqYjW6gV6Z"
      },
      "source": [
        "The Student \"8b238dff38c160b4854b4f9066df49bc\" is enrolled for Bank Defence and Police Exams prepartion and has already taken \"e27d888f06487c279b3af905d1293646\" and \"857c42b22e8956f61afb3a470e85de03\" courses already so we have not recommended him these courses we have recommended him  \"b61d1b81d9c3881dbb7ecc38d4161f89\", \"0db2e72c48b89cdaa961666fcc20d5d8\"\n",
        "and \"df4b5cec8ecaef0e1308931ede355f99\" courses as these courses are most frequent courses for Bank , Defence and Police Exams Preparation respectively. "
      ]
    }
  ]
}